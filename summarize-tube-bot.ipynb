{
  "nbformat": 4,
  "nbformat_minor": 0,
  "metadata": {
    "colab": {
      "provenance": [],
      "authorship_tag": "ABX9TyOPFF/ntTnSSUyEUH+MLcJ2",
      "include_colab_link": true
    },
    "kernelspec": {
      "name": "python3",
      "display_name": "Python 3"
    },
    "language_info": {
      "name": "python"
    }
  },
  "cells": [
    {
      "cell_type": "markdown",
      "metadata": {
        "id": "view-in-github",
        "colab_type": "text"
      },
      "source": [
        "<a href=\"https://colab.research.google.com/github/Janvierscode/SummarizeTubeBot/blob/main/summarize-tube-bot.ipynb\" target=\"_parent\"><img src=\"https://colab.research.google.com/assets/colab-badge.svg\" alt=\"Open In Colab\"/></a>"
      ]
    },
    {
      "cell_type": "code",
      "execution_count": 3,
      "metadata": {
        "colab": {
          "base_uri": "https://localhost:8080/"
        },
        "id": "6u8G8XcSDAs8",
        "outputId": "4b66bb69-cf59-49bd-99db-394f4fd0ef95"
      },
      "outputs": [
        {
          "output_type": "stream",
          "name": "stdout",
          "text": [
            "\u001b[?25l   \u001b[90m━━━━━━━━━━━━━━━━━━━━━━━━━━━━━━━━━━━━━━━━\u001b[0m \u001b[32m0.0/2.5 MB\u001b[0m \u001b[31m?\u001b[0m eta \u001b[36m-:--:--\u001b[0m\r\u001b[2K   \u001b[91m━━━━━━━━━\u001b[0m\u001b[91m╸\u001b[0m\u001b[90m━━━━━━━━━━━━━━━━━━━━━━━━━━━━━━\u001b[0m \u001b[32m0.6/2.5 MB\u001b[0m \u001b[31m17.9 MB/s\u001b[0m eta \u001b[36m0:00:01\u001b[0m\r\u001b[2K   \u001b[91m━━━━━━━━━━━━━━━━━━━━━━━━━━━━━━━━━━━━━━━\u001b[0m\u001b[91m╸\u001b[0m \u001b[32m2.5/2.5 MB\u001b[0m \u001b[31m41.3 MB/s\u001b[0m eta \u001b[36m0:00:01\u001b[0m\r\u001b[2K   \u001b[90m━━━━━━━━━━━━━━━━━━━━━━━━━━━━━━━━━━━━━━━━\u001b[0m \u001b[32m2.5/2.5 MB\u001b[0m \u001b[31m29.1 MB/s\u001b[0m eta \u001b[36m0:00:00\u001b[0m\n",
            "\u001b[?25h\u001b[?25l   \u001b[90m━━━━━━━━━━━━━━━━━━━━━━━━━━━━━━━━━━━━━━━━\u001b[0m \u001b[32m0.0/44.4 kB\u001b[0m \u001b[31m?\u001b[0m eta \u001b[36m-:--:--\u001b[0m\r\u001b[2K   \u001b[90m━━━━━━━━━━━━━━━━━━━━━━━━━━━━━━━━━━━━━━━━\u001b[0m \u001b[32m44.4/44.4 kB\u001b[0m \u001b[31m2.8 MB/s\u001b[0m eta \u001b[36m0:00:00\u001b[0m\n",
            "\u001b[2K   \u001b[90m━━━━━━━━━━━━━━━━━━━━━━━━━━━━━━━━━━━━━━━━\u001b[0m \u001b[32m50.9/50.9 kB\u001b[0m \u001b[31m4.0 MB/s\u001b[0m eta \u001b[36m0:00:00\u001b[0m\n",
            "\u001b[2K   \u001b[90m━━━━━━━━━━━━━━━━━━━━━━━━━━━━━━━━━━━━━━━━\u001b[0m \u001b[32m69.0/69.0 kB\u001b[0m \u001b[31m1.9 MB/s\u001b[0m eta \u001b[36m0:00:00\u001b[0m\n",
            "\u001b[?25hRequirement already satisfied: youtube_transcript_api in /usr/local/lib/python3.11/dist-packages (1.1.0)\n",
            "Requirement already satisfied: defusedxml<0.8.0,>=0.7.1 in /usr/local/lib/python3.11/dist-packages (from youtube_transcript_api) (0.7.1)\n",
            "Requirement already satisfied: requests in /usr/local/lib/python3.11/dist-packages (from youtube_transcript_api) (2.32.3)\n",
            "Requirement already satisfied: charset-normalizer<4,>=2 in /usr/local/lib/python3.11/dist-packages (from requests->youtube_transcript_api) (3.4.2)\n",
            "Requirement already satisfied: idna<4,>=2.5 in /usr/local/lib/python3.11/dist-packages (from requests->youtube_transcript_api) (3.10)\n",
            "Requirement already satisfied: urllib3<3,>=1.21.1 in /usr/local/lib/python3.11/dist-packages (from requests->youtube_transcript_api) (2.4.0)\n",
            "Requirement already satisfied: certifi>=2017.4.17 in /usr/local/lib/python3.11/dist-packages (from requests->youtube_transcript_api) (2025.4.26)\n",
            "Requirement already satisfied: pytube in /usr/local/lib/python3.11/dist-packages (15.0.0)\n"
          ]
        }
      ],
      "source": [
        "!pip install --upgrade --quiet langchain\n",
        "!pip install --quiet langchain-community\n",
        "!pip install --upgrade --quiet langchain-together\n",
        "!pip install youtube_transcript_api\n",
        "!pip install pytube"
      ]
    },
    {
      "cell_type": "code",
      "source": [
        "## setting up the language model\n",
        "from langchain_together import ChatTogether\n",
        "from google.colab import userdata\n",
        "\n",
        "llm = ChatTogether(api_key=userdata.get('TOGETHER_API_KEY'),temperature=0.0,\n",
        "                   model=\"meta-llama/Llama-Vision-Free\")"
      ],
      "metadata": {
        "id": "tWutTnHEES8Y"
      },
      "execution_count": 32,
      "outputs": []
    },
    {
      "cell_type": "code",
      "source": [
        "## import the youtube documnent loader from LangChain\n",
        "from langchain_community.document_loaders import YoutubeLoader\n",
        "\n",
        "video_url = 'https://www.youtube.com/watch?v=gaWxyWwziwE'\n",
        "loader = YoutubeLoader.from_youtube_url(video_url, add_video_info=False)\n",
        "data = loader.load()"
      ],
      "metadata": {
        "id": "4dSh5Xb2IbBe"
      },
      "execution_count": 33,
      "outputs": []
    },
    {
      "cell_type": "code",
      "source": [
        "# show the extracted page content\n",
        "data[0].page_content"
      ],
      "metadata": {
        "colab": {
          "base_uri": "https://localhost:8080/",
          "height": 140
        },
        "id": "4DlY_A2wItbN",
        "outputId": "de1e5a84-b2b4-42b8-bb20-b762f477200d"
      },
      "execution_count": 34,
      "outputs": [
        {
          "output_type": "execute_result",
          "data": {
            "text/plain": [
              "\"what should I build with AI if this is the question that you are struggling with watch this video till the end Paul Graham who is one of the founders of why combinator the startup school he says that the work that you do should have three qualities first it should be something that you have a natural aptitude for second it must be something that you have deep interest in so that you can you know overcome challenges that will come your way while you are working on that project and third thing is that particular project that thing should offer scope to do great work now I have been working in Tech I like solving problems in the world of engineering and AI I have deep and Trust in AI but now it comes down to the third question the third quality okay what should I work on that will offer you know great success and AI as you all know is filled with noise at this point partly because of you know there's so much hype and everybody wants to write the wave so the whole field is filled with too many bad ideas at this point it comes down to how to find good ideas and in order to answer this question I thought why not follow someone who has a track record of identifying and nurturing successful ideas in the tech industry why combinator why combinator's selection process has consistently surfaced companies that go on to rehap shape Industries entire sectors and that makes their portfolio a valuable indicator of emerging Trends and Technologies so all I had to do was to look at the kind of AI companies and Founders VC is backing specifically I wanted to learn what are the hottest Industries and sectors for AI startups which Industries have untabbed potential and you know industries that are ripe for AI disruption U what all companies and what all startups are solving uh problems in emerging Technologies like blockchain or Quantum Computing and there must be many companies working on AI safety because we have so many regulations coming in so companies working on data privacy AI safety accessibility explainability observability those are the kind of uh insights that we want and lastly you also want to understand the typical background and skills these Founders have so common traits of YC Founders in order to understand how practically feasible it is for you to pursue similar kind of projects now for those who do not know why combinator is a leading startup accelerator that provides seed funding mentorship and resources to help early stage startups succeed basically they invest $500,000 Us in each startup that is accepted into their three-month program uh in exchange for a small Equity stake and uh this program aims to help help these startups dramatically improve their product help them with user growth and also uh increases their options to raise additional funding now coming to the data collection process so I collected the data from YC's startup directory you have more than 5,000 companies over here that they have bagged so far I was only interested in AI companies that to from last four CS summer 24 Winter 24 summer 23 winter 23 and the tags that I've selected artificial intelligence AI generative AI so all of these AI companies are listed over here and if you look at you know a sample page from YC U the name is provided the description over here the founder details so I've captured all these along with all the tags that they have and cleaned the data captured it in this a table sheet okay so I have company name description category these are 4 17 companies that I collected while looking at a subset of these companies I have found many exceptional use cases and in fact uh part of the data collection process has been uh done with the help of company called gum Loop which is backed by YC which was previously called agentive okay and I find myself using gum Loop more than I had imagine now coming to the analysis I've tried to capture my entire analysis in this newsletter a article of mine uh it's called high signal AI uh the link will be provided in the description below the first part of the analysis was to look at the hottest Industries and sectors that have adopted AI quickly where people have found really good use cases and looking at this plot you'll see that Healthcare and biotech is the leader here with 45 companies solving problems in this industry which accounts for 10.8% of my data of all the companies that I have collected followed by fintech with 38 companies 37 companies are building some sort of developer tools 34 companies are trying to automate some sort of sales or marketing workflow and then 18 companies in education so if you look at these sample companies I have this study which is trying to innovate in this education industry an AI math tutor for every student so you have these examples in each and every industry and Healthcare and biotech is the leader so far now next you would want to understand should you build in B2B or b2c the numbers here are going to amaze you you have 338 companies out of 4177 building in the B2B sector 81.1% of the companies are solving B2B problems only 18.9% companies are operating in this b2c sector and you can find a few examples like gig ml which is helping inter Enterprises build and deploy large language models and then b2c you have Rex pocket pod shortbread these are the kind of companies and kind of problems that people are solving in the b2c sector so these numbers showcase you know strong confidence in B2B sector uh from investors uh and uh b2c has a lot of untabbed potential uh as you can see that only 20% of the companies are operating in this particular sector infrastructure versus application so this is obvious U as we in traditional software engineering majority of the people are going to build in the application layer that means they are going to build some sort of application using the you know underlying architecture underlying infrastructure and for obvious reasons infrastructure layer is hard to build the skill set required is also rare and investment requirements are also high so this data as well coming from YC may not be representative of the number of companies operating in the infrastructure layer uh which obviously is going to be you know low uh in number so 14.9% companies in infrastructure layer and 355 companies operating in the application layer uh so 85.1% and 14.9% over here automation has been the biggest use case of AI across all Industries and there are two types of automations one is completely AI driven and another one is uh co-pilots or assistants so AI assisted human work that means you are trying to help humans deliver faster you are automating some part of the workflow now here 69.1% of the companies are trying to build some sort of assistance to help uh humans deliver faster and 31% of the companies are building entire AI driven automations there are companies like ofon that are trying to automate order taking at fast food drive-throughs and there are companies like constructible that are building co-pilots for construction teams helping streamlined projects ideation reduced losses during you know due to bad data we've seen which Industries have adopted AI quickly but what about the industries that are still lagging which need more and more Innovation which need more people to incorporate AI to solve their problems and these are manufacturing agriculture energy retail 16 companies only combined together in these industries so you need more and more people and these industries present opportunities for first movers in AI adoption now let's talk about the Technologies specifically AI technologies that these startups are leveraging now when I talk about AI Technologies I talk about machine learning generative AI natural language processing computer vision uh media Generation video processing so on and so forth and take these numbers with a pinch of solt because a lot of these Technologies are overlapping so there may be companies that are using multiple AI Technologies to solve their problems and at the top for obvious reasons we have generative AI because llms are are advancing pretty quickly 78 companies using or building something using gen AI then we have machine learning 56 companies NLP 47 and computer version 18 as I said there will be many companies which are using both NLP or generative AI using both machine learning computer vision so on and so forth moving on to open source versus proprietary uh now this data may not be correct because VC obviously would not want to you know fund a lot of Open Source companies so 95.7 % 399 companies are proprietary and 4.3% of the companies are building in open source please note that there are a lot of companies out there which are coming out of Open Source projects if we talk about other Technologies and other different types of technical trends that we see in these AI startups Edge AI so models running on your phone uh Apple is doing a lot of work in this particular category but uh when we look at YC data only two companies .5% of the companies mentioned that they're solving something in Ed aai only five companies mentioned that they're working or trying to solve something with model efficiency that is reducing the computational resources that it needs to train one large language model so 1.2% of the compan is focusing on AI model uh efficiency 46 companies are building something with realtime AI uh that is voice agents uh primarily multimodal so approximately 22 companies 5.3% appear to be worth working on multimodel AI Solutions now as AI is evolving there are a lot of regulations there are a lot of concerns around data privacy AI safety explainability so on and so forth so there are layers of critical issues that are required to be solved now there are startups that are addressing data privacy and security concerns 18 companies 4.3% explicitly mentioned that they're solving something in data privacy and security sector so cyber security and data privacy one such company is Coria there are startups only five uh so far which are working on ethical AI or AI safety uh so there's a lot of potential over there startups making AI accessible for non-technical users so there are companies like Creo which is trying to build internal tools with AI without coding so no code tools there are three companies that are working on explainable a adding more transparency then we have uh 11 companies solving challenges in climate Tech uh three companies uh trying to address issues with bias and fairness using AI we have ai for small businesses versus Enterprise Solutions so if you look at this 70.7% of the companies are Enterprise solution only 88.9% are built for small businesses looking at these numbers we definitely need more and more people to work on these critical issues around safety regulation data privacy uh security and uh there is a lot of potential to grow uh Within These uh sectors coming to some hard uh emerging Technologies which is blockchain and Quantum Computing now obviously these Technologies and the fields are so complex that you would not have a lot of companies solving these problems but we have a bunch of them Quantum Computing there are two companies uh which are trying to incorporate AI with Quantum Computing solve something over there then we have three companies working on blockchain so conductor Quantum harnessing Quantum computing to potentially solve complex problems beyond the reach of classical Ai and then we have companies like salio or kadalo merging blockchain with AI for enhanced data integrity and decentralized intelligence so there is still a lot of potential uh Within These two sectors specifically I'm I'm more interested in blockchain how you integrate blockchain with AI to build something uh amazing now let's come to the background of the people who are willing to work on these problems work on these startups so typical background of a YC banked founder here you can see most more than 75% of the founders have strong technical expertise in computer science or software engineering machine learning or data science especially if you are an AI founder you have to be very strong in programming so educational background most around 20% of the found ERS are coming from prestigious institutes like Howard MIT Stanford Berkeley 25% of them have previously worked at strong leading tech companies like Google Facebook meta okay 15% of the founders have prior startup experience so they have worked on you know some of their own startups before and uh 8% of the founders come from academic research backgrounds phds postdoc University professors and 45% have co-founding teams so that means a technical founder plus a business or operations founder so they together make uh a good team 24% have backgrounds that position them to disrupt traditional industry so they have already uh done deep work within those Industries and they would bring in perspective that will help the technical founder or the business founder to take it further within that particular industry now not to mention that if you have done exceptional work in the past uh without having these titles or prestigious institutes in your background you can still make a mark uh all you need is you know drive and showcase some evidence that you can actually you know uh overcome those challenges that are going to come when you will work on something hard something that y would love to uh you know invest in now now putting this entire analysis together has what I would recommend to anyone but obviously you know feel free to go through the entire analysis and build the answer for yourself I would suggest that you focus on the B2B sector at this point okay uh look at underserved uh Industries manufacturing retail if you know somebody that's good uh prioritize technical expertise because you would need uh technical expertise to thrive in this business if you do not have that expertise partner up with somebody who does then uh leverage generative AI in an Innovative manner to stand out because there are many companies which are just rappers and they'll soon be uh you know out of business because as soon as open a releases their next Model A lot of businesses are going to shut uh because of that then address ethical concerns this is a category which is hard to solve but will have a lot of potential because there going to be many regulations coming in new bill are going to pass and privacy cyers these are issues that a lot of companies are going to have to deal with so if you can build a solution around it yeah you are going to stand out in that particular category then so yep that's been it and I hope that you found this video useful insightful and if you did please give it a thumbs up that's the best way you can help me subscribe and I'll catch you guys in the next one until then keep learning and keep building with a\""
            ],
            "application/vnd.google.colaboratory.intrinsic+json": {
              "type": "string"
            }
          },
          "metadata": {},
          "execution_count": 34
        }
      ]
    },
    {
      "cell_type": "code",
      "source": [
        "# This code creates a list of messages for the language model:\n",
        "# 1. A system message with instructions on how to summarize the video transcript\n",
        "# 2. A human message containing the actual video transcript\n",
        "\n",
        "# The messages are then passed to the language model (llm) for processing\n",
        "# The model's response is stored in the 'ai_msg' variable and returned\n",
        "\n",
        "messages = [\n",
        "    (\n",
        "        \"system\",\n",
        "        \"\"\"Read through the entire transcript carefully.\n",
        "           Provide a concise summary of the video's main topic and purpose.\n",
        "           Extract and list the five most interesting or important points from the transcript. For each point: State the key idea in a clear and concise manner.\n",
        "\n",
        "        - Ensure your summary and key points capture the essence of the video without including unnecessary details.\n",
        "        - Use clear, engaging language that is accessible to a general audience.\n",
        "        - If the transcript includes any statistical data, expert opinions, or unique insights, prioritize including these in your summary or key points.\"\"\",\n",
        "    ),\n",
        "    (\"human\", data[0].page_content),\n",
        "]\n",
        "ai_msg = llm.invoke(messages)\n",
        "ai_msg"
      ],
      "metadata": {
        "colab": {
          "base_uri": "https://localhost:8080/"
        },
        "id": "gKtjxcsmI4gl",
        "outputId": "02e76d5e-906d-449d-feaf-83e11fb6173d"
      },
      "execution_count": 27,
      "outputs": [
        {
          "output_type": "execute_result",
          "data": {
            "text/plain": [
              "AIMessage(content=\"<think>\\nOkay, so I need to figure out what to build with AI. I'm a bit stuck, so I watched this video that talks about how to find good AI ideas by looking at Y Combinator (YC) startups. The speaker mentions that Paul Graham, a YC founder, says your work should have three qualities: natural aptitude, deep interest, and scope for great work. \\n\\nThe video then dives into analyzing YC's AI companies. They looked at data from the last four batches and found that Healthcare and Biotech are leading with 45 companies, followed by Fintech, Developer Tools, Sales/Marketing, and Education. Most of these are B2B, which makes sense because B2B is a bigger market with more clear-cut problems to solve. \\n\\nThey also talked about automation being a big use case, with 69% of companies building AI assistants and 31% doing full automation. The speaker suggests looking into underserved industries like manufacturing and retail where AI hasn't been widely adopted yet. \\n\\nTechnologies like generative AI are popular, with 78 companies using it. However, areas like AI safety, data privacy, and explainability are still underserved, which could be a good opportunity. The speaker also mentions the importance of technical skills, suggesting partnering with someone technical if you're not. \\n\\nSo, putting this together, I should focus on B2B, target industries that aren't saturated yet, use generative AI innovatively, and address ethical concerns. Maybe I can combine AI with something like blockchain for data integrity, or focus on making AI more accessible to non-technical users. I need to think about where I have expertise and interest, and where there's a real problem to solve.\\n</think>\\n\\nTo determine what to build with AI, consider the following structured approach based on insights from Y Combinator's AI startups:\\n\\n1. **Focus on B2B Sectors**: B2B offers significant opportunities as 81% of AI startups in YC are in this space, addressing clear industry problems.\\n\\n2. **Target Underserved Industries**: Explore industries like manufacturing, retail, and agriculture where AI adoption is lagging, presenting first-mover advantages.\\n\\n3. **Leverage Generative AI Innovatively**: With 78 companies using generative AI, find unique applications to stand out, avoiding mere replication of existing solutions.\\n\\n4. **Address Ethical and Safety Concerns**: There's a growing need for solutions in AI safety, data privacy, and explainability, driven by increasing regulations. This niche offers substantial potential.\\n\\n5. **Combine AI with Emerging Technologies**: Consider integrating AI with blockchain for enhanced data integrity or explore AI applications in quantum computing for complex problem-solving.\\n\\n6. **Develop No-Code AI Tools**: Create solutions that make AI accessible to non-technical users, addressing a gap in the market.\\n\\n7. **Collaborate for Technical Expertise**: If lacking technical skills, partner with someone who has a strong background in AI and software engineering to strengthen your project.\\n\\nBy aligning your interests and expertise with these areas, you can identify a meaningful problem to solve, leveraging AI's potential effectively.\", additional_kwargs={'refusal': None}, response_metadata={'token_usage': {'completion_tokens': 645, 'prompt_tokens': 2950, 'total_tokens': 3595, 'completion_tokens_details': None, 'prompt_tokens_details': None}, 'model_name': 'deepseek-ai/DeepSeek-R1-Distill-Llama-70B-free', 'system_fingerprint': None, 'id': 'nyYP7eY-2j9zxn-95164334ec4c450b', 'service_tier': None, 'finish_reason': 'stop', 'logprobs': None}, id='run--4a068faf-33d9-477f-8312-77f03c0d9e01-0', usage_metadata={'input_tokens': 2950, 'output_tokens': 645, 'total_tokens': 3595, 'input_token_details': {}, 'output_token_details': {}})"
            ]
          },
          "metadata": {},
          "execution_count": 27
        }
      ]
    },
    {
      "cell_type": "code",
      "source": [
        "# Set up a prompt template for summarizing a video transcript using LangChain\n",
        "\n",
        "# Import necessary classes from LangChain\n",
        "from langchain.prompts import PromptTemplate\n",
        "from langchain import LLMChain\n",
        "\n",
        "# Define a PromptTemplate for summarizing video transcripts\n",
        "# The template includes instructions for the AI model on how to process the transcript\n",
        "product_description_template = PromptTemplate(\n",
        "    input_variables=[\"video_transcript\"],\n",
        "    template=\"\"\"\n",
        "    Read through the entire transcript carefully.\n",
        "           Provide a concise summary of the video's main topic and purpose.\n",
        "           Extract and list the five most interesting or important points from the transcript.\n",
        "           For each point: State the key idea in a clear and concise manner.\n",
        "\n",
        "        - Ensure your summary and key points capture the essence of the video without including unnecessary details.\n",
        "        - Use clear, engaging language that is accessible to a general audience.\n",
        "        - If the transcript includes any statistical data, expert opinions, or unique insights,\n",
        "        prioritize including these in your summary or key points.\n",
        "\n",
        "    Video transcript: {video_transcript}    \"\"\"\n",
        ")"
      ],
      "metadata": {
        "id": "SGAlRq-BI9vS"
      },
      "execution_count": 35,
      "outputs": []
    },
    {
      "cell_type": "code",
      "source": [
        "## invoke the chain with the video transcript\n",
        "chain = product_description_template | llm\n",
        "\n",
        "# Run the chain with the provided product details\n",
        "summary = chain.invoke({\n",
        "    \"video_transcript\": data[0].page_content\n",
        "})"
      ],
      "metadata": {
        "id": "C78Uog6dJKFu"
      },
      "execution_count": 36,
      "outputs": []
    },
    {
      "cell_type": "code",
      "source": [
        "summary.content"
      ],
      "metadata": {
        "colab": {
          "base_uri": "https://localhost:8080/",
          "height": 140
        },
        "id": "AdTcMqAbJL87",
        "outputId": "0593f3b5-98e3-4355-b332-34e97b4ce82c"
      },
      "execution_count": 37,
      "outputs": [
        {
          "output_type": "execute_result",
          "data": {
            "text/plain": [
              "'**Summary:**\\nThe video discusses how to identify a promising area to work on in the field of Artificial Intelligence (AI). The speaker, who has experience in the tech industry, suggests following the lead of successful investors and accelerators, such as Y Combinator (YC), to identify emerging trends and technologies. By analyzing the types of AI companies that YC has invested in, the speaker identifies key areas, such as B2B, healthcare, and education, where AI is being adopted quickly. The speaker also highlights the importance of technical expertise, particularly in computer science and machine learning, and provides recommendations for building a successful AI startup.\\n\\n**Five Most Interesting or Important Points:**\\n\\n1. **Key Industries for AI Adoption:** The speaker identifies healthcare and biotech as the leading industries for AI adoption, with 45 companies solving problems in this industry, followed by fintech, developer tools, and education.\\n2. **B2B vs. B2C:** The data shows that 81.1% of AI companies are building B2B solutions, while only 18.9% are operating in the B2C sector, indicating strong confidence in the B2B sector from investors.\\n3. **Automation and AI Technologies:** The speaker notes that automation has been the biggest use case of AI across all industries, with 69.1% of companies building assistance to help humans deliver faster, and 31% building entire AI-driven automations.\\n4. **Emerging Technologies:** The speaker highlights the potential of emerging technologies like blockchain and Quantum Computing, with only a few companies working on these areas, indicating a lot of potential for innovation and growth.\\n5. **Founder Background and Skills:** The speaker emphasizes the importance of technical expertise, particularly in computer science and machine learning, and notes that most YC-backed founders have strong technical expertise, with 75% having a background in computer science or software engineering.\\n\\n**Key Ideas:**\\n\\n* Focus on the B2B sector, particularly in underserved industries like manufacturing and retail.\\n* Prioritize technical expertise, particularly in computer science and machine learning.\\n* Leverage generative AI in an innovative manner to stand out.\\n* Address ethical concerns, such as data privacy and security, to build a solution with potential.\\n* Consider emerging technologies like blockchain and Quantum Computing for innovation and growth.'"
            ],
            "application/vnd.google.colaboratory.intrinsic+json": {
              "type": "string"
            }
          },
          "metadata": {},
          "execution_count": 37
        }
      ]
    },
    {
      "cell_type": "code",
      "source": [
        "from IPython.display import Markdown, display\n",
        "\n",
        "display(Markdown(summary.content))"
      ],
      "metadata": {
        "colab": {
          "base_uri": "https://localhost:8080/",
          "height": 451
        },
        "id": "lIwhvfEPKgZE",
        "outputId": "4e9cf4dd-7294-429c-c358-d438fb2f6f62"
      },
      "execution_count": 38,
      "outputs": [
        {
          "output_type": "display_data",
          "data": {
            "text/plain": [
              "<IPython.core.display.Markdown object>"
            ],
            "text/markdown": "**Summary:**\nThe video discusses how to identify a promising area to work on in the field of Artificial Intelligence (AI). The speaker, who has experience in the tech industry, suggests following the lead of successful investors and accelerators, such as Y Combinator (YC), to identify emerging trends and technologies. By analyzing the types of AI companies that YC has invested in, the speaker identifies key areas, such as B2B, healthcare, and education, where AI is being adopted quickly. The speaker also highlights the importance of technical expertise, particularly in computer science and machine learning, and provides recommendations for building a successful AI startup.\n\n**Five Most Interesting or Important Points:**\n\n1. **Key Industries for AI Adoption:** The speaker identifies healthcare and biotech as the leading industries for AI adoption, with 45 companies solving problems in this industry, followed by fintech, developer tools, and education.\n2. **B2B vs. B2C:** The data shows that 81.1% of AI companies are building B2B solutions, while only 18.9% are operating in the B2C sector, indicating strong confidence in the B2B sector from investors.\n3. **Automation and AI Technologies:** The speaker notes that automation has been the biggest use case of AI across all industries, with 69.1% of companies building assistance to help humans deliver faster, and 31% building entire AI-driven automations.\n4. **Emerging Technologies:** The speaker highlights the potential of emerging technologies like blockchain and Quantum Computing, with only a few companies working on these areas, indicating a lot of potential for innovation and growth.\n5. **Founder Background and Skills:** The speaker emphasizes the importance of technical expertise, particularly in computer science and machine learning, and notes that most YC-backed founders have strong technical expertise, with 75% having a background in computer science or software engineering.\n\n**Key Ideas:**\n\n* Focus on the B2B sector, particularly in underserved industries like manufacturing and retail.\n* Prioritize technical expertise, particularly in computer science and machine learning.\n* Leverage generative AI in an innovative manner to stand out.\n* Address ethical concerns, such as data privacy and security, to build a solution with potential.\n* Consider emerging technologies like blockchain and Quantum Computing for innovation and growth."
          },
          "metadata": {}
        }
      ]
    },
    {
      "cell_type": "code",
      "source": [],
      "metadata": {
        "id": "dyZwRcA6LAjW"
      },
      "execution_count": null,
      "outputs": []
    }
  ]
}